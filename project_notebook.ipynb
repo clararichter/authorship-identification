{
 "cells": [
  {
   "cell_type": "markdown",
   "metadata": {},
   "source": [
    "# Identifying the Authors of Classic English Fiction Books"
   ]
  },
  {
   "cell_type": "markdown",
   "metadata": {},
   "source": [
    "Given a text in English, we wish to perform a classification in predicting what author among several possible candidates wrote it. The writing styles of any two authors generally differs, and we hope to build a model that recognizes this difference in a consistent way. \n",
    "...label chunks of texts to one out of several possible candidate authors. The candidate authors are Charles Dickens, Jane Austen, Mark Twain (add more).\n"
   ]
  },
  {
   "cell_type": "code",
   "execution_count": 1,
   "metadata": {},
   "outputs": [],
   "source": [
    "import pandas as pd\n",
    "import csv"
   ]
  },
  {
   "cell_type": "markdown",
   "metadata": {},
   "source": [
    "# Data sources\n",
    "- http://www.gutenberg.org/"
   ]
  },
  {
   "cell_type": "markdown",
   "metadata": {},
   "source": [
    "# Data Retrieval\n",
    "\n",
    "From gutenberg.org we wanted to retrieve as many texts as possible for each author. The website has +50 000 books, listed in very non-uniform manner in a catalog. \n",
    "\n",
    "Part i) Parsing the catalog, and retrieving the info for relevant books was a bit of a pain. * getting rid of books of other language, * getting rid of audiobooks, * taking care of formatting errors\n",
    "Generated a CSV file with the columns 'title', 'author', 'book_id', and 'link'. V\n",
    "\n",
    "Part ii) given the catalog, retrieve the texts\n",
    "Manual work: delete the books that were in the wrong language, add some extra books that weren't retrieved successfully"
   ]
  },
  {
   "cell_type": "code",
   "execution_count": 31,
   "metadata": {},
   "outputs": [
    {
     "data": {
      "text/html": [
       "<div>\n",
       "<style scoped>\n",
       "    .dataframe tbody tr th:only-of-type {\n",
       "        vertical-align: middle;\n",
       "    }\n",
       "\n",
       "    .dataframe tbody tr th {\n",
       "        vertical-align: top;\n",
       "    }\n",
       "\n",
       "    .dataframe thead th {\n",
       "        text-align: right;\n",
       "    }\n",
       "</style>\n",
       "<table border=\"1\" class=\"dataframe\">\n",
       "  <thead>\n",
       "    <tr style=\"text-align: right;\">\n",
       "      <th></th>\n",
       "      <th>title</th>\n",
       "      <th>author</th>\n",
       "      <th>book_id</th>\n",
       "      <th>link</th>\n",
       "    </tr>\n",
       "  </thead>\n",
       "  <tbody>\n",
       "    <tr>\n",
       "      <th>0</th>\n",
       "      <td>Guild Court</td>\n",
       "      <td>George MacDonald</td>\n",
       "      <td>56176</td>\n",
       "      <td>http://www.gutenberg.org/cache/epub/56176/pg56...</td>\n",
       "    </tr>\n",
       "    <tr>\n",
       "      <th>1</th>\n",
       "      <td>Aventures d'Alice au pays des merveilles</td>\n",
       "      <td>Lewis Carroll</td>\n",
       "      <td>55456</td>\n",
       "      <td>http://www.gutenberg.org/files/55456/55456-0.txt</td>\n",
       "    </tr>\n",
       "    <tr>\n",
       "      <th>2</th>\n",
       "      <td>Uusi Odysseus</td>\n",
       "      <td>Jack London</td>\n",
       "      <td>55184</td>\n",
       "      <td>http://www.gutenberg.org/cache/epub/55184/pg55...</td>\n",
       "    </tr>\n",
       "    <tr>\n",
       "      <th>3</th>\n",
       "      <td>The Birthplace</td>\n",
       "      <td>Henry James</td>\n",
       "      <td>55078</td>\n",
       "      <td>http://www.gutenberg.org/files/55078/55078.txt</td>\n",
       "    </tr>\n",
       "    <tr>\n",
       "      <th>4</th>\n",
       "      <td>The Nursery Alice</td>\n",
       "      <td>Lewis Carroll</td>\n",
       "      <td>55040</td>\n",
       "      <td>http://www.gutenberg.org/files/55040/55040-0.txt</td>\n",
       "    </tr>\n",
       "    <tr>\n",
       "      <th>5</th>\n",
       "      <td>Kadonnut pikajuna</td>\n",
       "      <td>Arthur Conan Doyle</td>\n",
       "      <td>54933</td>\n",
       "      <td>http://www.gutenberg.org/cache/epub/54933/pg54...</td>\n",
       "    </tr>\n",
       "    <tr>\n",
       "      <th>6</th>\n",
       "      <td>Round the Fire Stories</td>\n",
       "      <td>Arthur Conan Doyle</td>\n",
       "      <td>54109</td>\n",
       "      <td>http://www.gutenberg.org/files/54109/54109-0.txt</td>\n",
       "    </tr>\n",
       "    <tr>\n",
       "      <th>7</th>\n",
       "      <td>Hearts of Three</td>\n",
       "      <td>Jack London</td>\n",
       "      <td>54068</td>\n",
       "      <td>http://www.gutenberg.org/files/54068/54068-0.txt</td>\n",
       "    </tr>\n",
       "    <tr>\n",
       "      <th>8</th>\n",
       "      <td>Tarzan, apinain kuningas</td>\n",
       "      <td>Edgar Rice Burroughs</td>\n",
       "      <td>53984</td>\n",
       "      <td>http://www.gutenberg.org/cache/epub/53984/pg53...</td>\n",
       "    </tr>\n",
       "    <tr>\n",
       "      <th>9</th>\n",
       "      <td>Kauhun laakso II</td>\n",
       "      <td>Arthur Conan Doyle</td>\n",
       "      <td>52678</td>\n",
       "      <td>http://www.gutenberg.org/cache/epub/52678/pg52...</td>\n",
       "    </tr>\n",
       "  </tbody>\n",
       "</table>\n",
       "</div>"
      ],
      "text/plain": [
       "                                      title                author  book_id  \\\n",
       "0                               Guild Court      George MacDonald    56176   \n",
       "1  Aventures d'Alice au pays des merveilles         Lewis Carroll    55456   \n",
       "2                             Uusi Odysseus           Jack London    55184   \n",
       "3                            The Birthplace           Henry James    55078   \n",
       "4                         The Nursery Alice         Lewis Carroll    55040   \n",
       "5                         Kadonnut pikajuna    Arthur Conan Doyle    54933   \n",
       "6                    Round the Fire Stories    Arthur Conan Doyle    54109   \n",
       "7                           Hearts of Three           Jack London    54068   \n",
       "8                  Tarzan, apinain kuningas  Edgar Rice Burroughs    53984   \n",
       "9                          Kauhun laakso II    Arthur Conan Doyle    52678   \n",
       "\n",
       "                                                link  \n",
       "0  http://www.gutenberg.org/cache/epub/56176/pg56...  \n",
       "1   http://www.gutenberg.org/files/55456/55456-0.txt  \n",
       "2  http://www.gutenberg.org/cache/epub/55184/pg55...  \n",
       "3     http://www.gutenberg.org/files/55078/55078.txt  \n",
       "4   http://www.gutenberg.org/files/55040/55040-0.txt  \n",
       "5  http://www.gutenberg.org/cache/epub/54933/pg54...  \n",
       "6   http://www.gutenberg.org/files/54109/54109-0.txt  \n",
       "7   http://www.gutenberg.org/files/54068/54068-0.txt  \n",
       "8  http://www.gutenberg.org/cache/epub/53984/pg53...  \n",
       "9  http://www.gutenberg.org/cache/epub/52678/pg52...  "
      ]
     },
     "execution_count": 31,
     "metadata": {},
     "output_type": "execute_result"
    }
   ],
   "source": [
    "df = pd.read_csv('data/books.csv')\n",
    "df.columns = ['title','author','book_id', 'link']\n",
    "df.head(10)"
   ]
  },
  {
   "cell_type": "markdown",
   "metadata": {},
   "source": [
    "# Data Cleaning\n",
    "\n",
    "<b> Text cleaning </b>\n",
    "\n",
    "Stripping the texts. While we could have written a script to this manually, we decided against this solution. The reason for this is that the overhead text came in many different formats, of varying lengths. In some cases it was less than 20 lines, in other over 200 lines. With an automated approach, we would have had to take a non-trivial amount of actual text in many cases. While we don't know, we decided it's better to keep it as big as possible.\n",
    "\n",
    "<b> Feature extraction </b>\n",
    "\n",
    "Lexical features\n",
    "   1) character specific features\n",
    "   2) word specific features\n",
    "Syntactic features\n",
    "Structural features\n",
    "\n",
    "- * n-grams\n",
    "- pos n-grams\n",
    "- sentence length\n",
    "- * word length\n",
    "- word richness\n",
    "- function words\n",
    "- punctuation\n",
    "\n",
    "<b> Constructing an item row matrix </b>\n",
    "\n",
    "<b> Splitting the data into training, test and evaluation sets </b>\n",
    "\n",
    "Percentage split or K-fold cross-validation?"
   ]
  },
  {
   "cell_type": "markdown",
   "metadata": {},
   "source": [
    "# Data visualization"
   ]
  },
  {
   "cell_type": "markdown",
   "metadata": {},
   "source": [
    "# Book Frequency\n",
    "The number of books we have for each author."
   ]
  },
  {
   "cell_type": "code",
   "execution_count": 35,
   "metadata": {},
   "outputs": [],
   "source": [
    "frequency = df['author'].value_counts()"
   ]
  },
  {
   "cell_type": "code",
   "execution_count": 37,
   "metadata": {},
   "outputs": [],
   "source": [
    "frequency = frequency.sort_index()"
   ]
  },
  {
   "cell_type": "code",
   "execution_count": 40,
   "metadata": {},
   "outputs": [
    {
     "data": {
      "text/plain": [
       "Text(0,0.5,'Number of Books')"
      ]
     },
     "execution_count": 40,
     "metadata": {},
     "output_type": "execute_result"
    },
    {
     "data": {
      "image/png": "[encoded data removed]",
      "text/plain": [
       "<matplotlib.figure.Figure at 0x1a212f3cf8>"
      ]
     },
     "metadata": {},
     "output_type": "display_data"
    }
   ],
   "source": [
    "ax = frequency.plot(kind='bar', figsize=(16,14), title='Number of books', grid=True)\n",
    "ax.set_xlabel(\"Author\")\n",
    "ax.set_ylabel(\"Number of Books\")"
   ]
  },
  {
   "cell_type": "markdown",
   "metadata": {},
   "source": [
    "# Word Length Distributions"
   ]
  },
  {
   "cell_type": "code",
   "execution_count": null,
   "metadata": {},
   "outputs": [],
   "source": []
  },
  {
   "cell_type": "code",
   "execution_count": null,
   "metadata": {},
   "outputs": [],
   "source": [
    "# N"
   ]
  },
  {
   "cell_type": "code",
   "execution_count": null,
   "metadata": {},
   "outputs": [],
   "source": [
    "ax = the_freq_df.plot.scatter(x=\"years\", y=\"the\",figsize=(18,16), title='Years (1800-1900) percent of \"the\"')\n",
    "ax.set_ylabel(\"% of \\\"the\\\" in book\")\n",
    "ax.set_xlabel(\"Year\")"
   ]
  },
  {
   "cell_type": "code",
   "execution_count": null,
   "metadata": {},
   "outputs": [],
   "source": [
    "the_freq_df[\"years\"].corr(the_freq_df[\"the\"])"
   ]
  },
  {
   "cell_type": "markdown",
   "metadata": {},
   "source": [
    "As seen in the correlation, there is almost no correlation between year and % of \"the\"."
   ]
  }
 ],
 "metadata": {
  "kernelspec": {
   "display_name": "Python 3",
   "language": "python",
   "name": "python3"
  },
  "language_info": {
   "codemirror_mode": {
    "name": "ipython",
    "version": 3
   },
   "file_extension": ".py",
   "mimetype": "text/x-python",
   "name": "python",
   "nbconvert_exporter": "python",
   "pygments_lexer": "ipython3",
   "version": "3.6.4"
  }
 },
 "nbformat": 4,
 "nbformat_minor": 2
}
