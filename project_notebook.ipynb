{
 "cells": [
  {
   "cell_type": "markdown",
   "metadata": {},
   "source": [
    "Dating Documents\n",
    "\n",
    "1) Prediction you hope to make\n",
    "\n",
    "Given a short text in English, we wish to perform the classification of predicting the year (or the decade in which) it was written. The writing style of a written work from, say the 1800s, is certainly very different from that of a modern text, and we hope to build a model that can recognize such a difference in a consistent way. The similar problem of \"author identification\" has been tackled before (e.g. see [1] and [2]). \n",
    "\n",
    "2) Identification of data sources\n",
    "- http://www.gutenberg.org/\n",
    "- https://books.google.com/ngrams\n",
    "- https://googlebooks.byu.edu/x.asp (more advanced word tool)\n",
    "\n",
    "3) Data cleaning plan - what will you need to do to make the data usable? Include tables showing where data issues are.\n",
    "\n",
    "4) Data exploration/visualization\n",
    "\n",
    "\n",
    "[1] https://web.stanford.edu/class/cs224n/reports/2760185.pdf\n",
    "[2] https://brage.bibsys.no/xmlui/bitstream/handle/11250/2353615/12344_FULLTEXT.pdf?sequence=1"
   ]
  }
 ],
 "metadata": {
  "kernelspec": {
   "display_name": "Python 3",
   "language": "python",
   "name": "python3"
  },
  "language_info": {
   "codemirror_mode": {
    "name": "ipython",
    "version": 3
   },
   "file_extension": ".py",
   "mimetype": "text/x-python",
   "name": "python",
   "nbconvert_exporter": "python",
   "pygments_lexer": "ipython3",
   "version": "3.6.4"
  }
 },
 "nbformat": 4,
 "nbformat_minor": 2
}
