{
 "cells": [
  {
   "cell_type": "code",
   "execution_count": 23,
   "metadata": {},
   "outputs": [],
   "source": [
    "import pandas as pd\n",
    "import matplotlib.pyplot as plt"
   ]
  },
  {
   "cell_type": "code",
   "execution_count": 12,
   "metadata": {},
   "outputs": [],
   "source": [
    "from nltk.util import ngrams\n",
    "from nltk.tokenize import TweetTokenizer, sent_tokenize\n",
    "import numpy as np\n",
    "import nltk\n",
    "import collections\n",
    "\n",
    "class Text():\n",
    "\n",
    "    def __init__(self, text, author):\n",
    "        self.author = author\n",
    "        self.text = text.lower()\n",
    "        self.tokens = TweetTokenizer().tokenize(self.text)\n",
    "        self.sentences = sent_tokenize(self.text)\n",
    "        self.total_number_of_tokens = len(self.tokens)\n",
    "        self.max_ngrams = 1\n",
    "        self.vector = self.get_vector()\n",
    "\n",
    "    def get_vector(self):\n",
    "        vector = {}\n",
    "        vector.update( {'original_book_author': self.author } )\n",
    "        vector.update( self.word_gram_data() )\n",
    "        vector.update( self.pos_gram_data() )\n",
    "        vector.update( self.stylometric_data() )\n",
    "        return vector\n",
    "\n",
    "    def count_map(self, items):\n",
    "        count_map = {}\n",
    "        for item in items:\n",
    "            if item in count_map:\n",
    "                count_map[item] += 1\n",
    "            else:\n",
    "                count_map[item] = 1\n",
    "        return count_map\n",
    "\n",
    "    def percentage_map(self, count_map, total):\n",
    "        return( { key : (lambda count: count / total)(count) for ( key, count ) in count_map.items() } )\n",
    "\n",
    "    def word_gram_data(self):\n",
    "        output_dictionary = {}\n",
    "        for n in range(1, self.max_ngrams + 1):\n",
    "            n_grams = ngrams(self.tokens, n)\n",
    "            all_grams = list(n_grams)\n",
    "            total = len(all_grams)\n",
    "            grams_collection = collections.Counter(all_grams)\n",
    "            grams_collection = dict(grams_collection)\n",
    "\n",
    "            for ngram, count in grams_collection.items():\n",
    "                output_dictionary[\" \".join(ngram)] = count/total\n",
    "\n",
    "        return output_dictionary\n",
    "\n",
    "    def pos_gram_data(self):\n",
    "        output_dictionary = {}\n",
    "        pos_tags = nltk.pos_tag(self.tokens)\n",
    "        pos_tags = [pos[1] for pos in pos_tags]\n",
    "\n",
    "        for n in range(1, self.max_ngrams + 1):\n",
    "            n_grams = ngrams(pos_tags, n)\n",
    "            all_grams = list(n_grams)\n",
    "            total = len(all_grams)\n",
    "            grams_collection = collections.Counter(all_grams)\n",
    "            grams_collection = dict(grams_collection)\n",
    "\n",
    "            for ngram, count in grams_collection.items():\n",
    "                output_dictionary[\" \".join(ngram)] = count/total\n",
    "\n",
    "        return output_dictionary\n",
    "\n",
    "    def word_lengths(self):\n",
    "        word_lengths = []\n",
    "        forbidden = [\".\", \",\", \"?\", \"!\", \"\\\"\",\"\\'\",\";\",\":\"]\n",
    "        for word in self.tokens:\n",
    "            if word not in forbidden:\n",
    "                word_lengths.append(len(word))\n",
    "        return sorted(word_lengths)\n",
    "\n",
    "    def stylometric_data(self):\n",
    "        output = self.word_length_data()\n",
    "        output.update(self.sentence_length_data())\n",
    "        output.update(self.word_richness())\n",
    "        return output\n",
    "\n",
    "    def sentence_lengths(self):\n",
    "        sentence_lengths = []\n",
    "        for sentence in self.sentences:\n",
    "            sentence_lengths.append(len(sentence.split(\" \")))\n",
    "        return sorted(sentence_lengths)\n",
    "\n",
    "    def word_length_distr(self):\n",
    "        word_lengths = self.word_lengths()\n",
    "        return self.percentage_map( self.count_map(word_lengths), len(word_lengths) )\n",
    "\n",
    "    def sentence_lengths_distr(self):\n",
    "        sentence_lengths = self.sentence_lengths()\n",
    "        return self.percentage_map( count_map(sentence_lengths), len(sentence_lengths) )\n",
    "\n",
    "    def word_length_data(self):\n",
    "        word_lengths = self.word_lengths()\n",
    "        #self.row.update( {'word_length_avg': np.mean(word_lengths),'word_length_std_dev': np.std(word_lengths)} )\n",
    "        return ( {'word_length_avg': np.mean(word_lengths),'word_length_std_dev': np.std(word_lengths)} )\n",
    "\n",
    "    def sentence_length_data(self):\n",
    "        sentence_lengths = self.sentence_lengths()\n",
    "        # self.row.update( {'sentence_length_avg': np.mean(sentence_lengths), 'sentence_length_std_dev': np.std(sentence_lengths) })\n",
    "        return ( {'sentence_length_avg': np.mean(sentence_lengths), 'sentence_length_std_dev': np.std(sentence_lengths) })\n",
    "\n",
    "    def word_richness(self):\n",
    "        # self.row.update( {'word_richness': len(self.tokens) / len(set(self.tokens)) } )\n",
    "        return ( {'word_richness': len(self.tokens) / len(set(self.tokens)) } )\n",
    "\n",
    "    def num_sentences(self):\n",
    "        self.row.update( {'number_sentences': len(self.sentences)} )\n",
    "\n",
    "if __name__ == '__main__':\n",
    "    pass\n"
   ]
  },
  {
   "cell_type": "code",
   "execution_count": 13,
   "metadata": {},
   "outputs": [
    {
     "name": "stdout",
     "output_type": "stream",
     "text": [
      "mildred_a._wirt\n",
      "\t whispering_walls.txt\n",
      "\t the_brownie_scouts_at_windmill_farm.txt\n",
      "\t ghost_beyond_the_gate.txt\n",
      "\t dan_carter_and_the_river_camp.txt\n",
      "\t dan_carter_cub_scout.txt\n",
      "\t swamp_island.txt\n",
      "\t clue_of_the_silken_ladder.txt\n",
      "\t voice_from_the_cave.txt\n",
      "\t hoofbeats_on_the_turnpike.txt\n",
      "\t the_secret_pact.txt\n",
      "\t the_wishing_well.txt\n",
      "\t the_brownie_scouts_and_their_tree_house.txt\n",
      "\t dan_carter_and_the_cub_honor.txt\n",
      "\t the_brownie_scouts_at_silver_beach.txt\n",
      "\t saboteurs_on_the_river.txt\n",
      "\t the_brownie_scouts_in_the_cherry_festival.txt\n",
      "\t guilt_of_the_brass_thieves.txt\n",
      "\t the_clock_strikes_thirteen.txt\n",
      "\t signal_in_the_dark.txt\n",
      "\t dan_carter_and_the_great_carved_face.txt\n",
      "\t danger_at_the_drawbridge.txt\n",
      "\t dan_carter_and_the_money_box.txt\n",
      "\t dan_carter_and_the_haunted_castle.txt\n",
      "\t behind_the_green_door.txt\n",
      "oscar_wilde\n",
      "\t a_critic_in_pall_mall.txt\n",
      "\t selected_prose_of_oscar_wilde.txt\n",
      "\t poems.txt\n",
      "\t the_soul_of_man_under_socialism.txt\n",
      "\t the_canterville_ghost.txt\n",
      "\t the_duchess_of_padua.txt\n",
      "\t charmides_and_other_poems.txt\n",
      "\t the_picture_of_dorian_gray.txt\n",
      "\t intentions.txt\n",
      "\t the_happy_prince_and_other_tales.txt\n",
      "\t a_woman_of_no_importance.txt\n",
      "\t the_happy_prince.txt\n",
      "\t for_love_of_the_king.txt\n",
      "\t a_house_of_pomegranates.txt\n",
      "\t lady_windermere's_fan.txt\n",
      "\t an_ideal_husband.txt\n",
      "\t oscar_wilde_miscellaneous.txt\n",
      "\t children_in_prison_and_other_cruelties_of_prison_life.txt\n",
      "\t de_profundis.txt\n",
      "\t lord_arthur_savile's_crime.txt\n",
      "\t the_importance_of_being_earnest.txt\n",
      "\t vera.txt\n",
      "\t essays_and_lectures.txt\n",
      "features retrieved\n",
      "eliminate_sparce_columns_function\n",
      "\t mildred_a._wirt\n",
      "\t oscar_wilde\n",
      "eliminate_non_significant_columns function\n",
      "\t mildred_a._wirt\n",
      "\t oscar_wilde\n",
      "\tsub tables built, constructing feature table\n",
      "\tdrops\n"
     ]
    }
   ],
   "source": [
    "import pandas as pd\n",
    "from text_features import Text\n",
    "import os\n",
    "import csv\n",
    "import numpy as np\n",
    "\n",
    "class Matrix():\n",
    "\n",
    "    def __init__(self, authors):\n",
    "        path = \"data/texts_cleaned\"\n",
    "        self.matrix = pd.DataFrame()\n",
    "        self.authors = authors\n",
    "        self.build_matrix(path)\n",
    "\n",
    "\n",
    "    def build_matrix(self, path):\n",
    "        books = []\n",
    "        index = []\n",
    "        for author in self.authors:\n",
    "            print(author)\n",
    "            for book in os.listdir(path + '/' + author):\n",
    "                print(\"\\t\", book)\n",
    "                text = Text( open(path + '/' + author + '/' + book, 'r', errors='ignore').read(), author )\n",
    "                # book = text.vector\n",
    "                # print(book)\n",
    "                books.append(text.vector)\n",
    "                index.append(book)\n",
    "                #self.matrix = self.matrix.append( pd.DataFrame(text.get_vector(), index=[book] ) )\n",
    "        self.matrix = pd.DataFrame.from_records(books, index = index)\n",
    "\n",
    "        print(\"features retrieved\")\n",
    "        self.matrix = self.matrix.fillna(0)\n",
    "        self.matrix.to_csv(\"wirt_test_pre_sparcity.csv\", encoding='utf-8')\n",
    "        self.eliminate_sparse_columns(.5)\n",
    "        self.matrix.to_csv(\"wirt_test_pre_significance.csv\", encoding='utf-8')\n",
    "        self.eliminate_non_significant_columns(.3)\n",
    "        self.matrix.to_csv(\"wirt_test_complete.csv\", encoding='utf-8')\n",
    "\n",
    "\n",
    "\n",
    "    def eliminate_sparse_columns(self, threshold): # threshold -> min_percent_data\n",
    "        # print(\"starting csv read\")\n",
    "        # self.matrix = pd.read_csv(\"./matrix_builder_full_table.csv\", header=0, index_col=0)\n",
    "\n",
    "        print(\"eliminate_sparce_columns_function\")\n",
    "        columns_to_keep = ['original_book_author', 'word_length_avg', 'word_length_std_dev', 'sentence_length_avg', 'sentence_length_std_dev', 'word_richness']\n",
    "        feature_list = list( set(self.matrix.columns.values).difference( set( columns_to_keep ) ) )\n",
    "        sparcity_data = pd.DataFrame(columns=self.authors, index=feature_list)\n",
    "\n",
    "        for author in self.authors:\n",
    "            print(\"\\t\", author)\n",
    "            subframe = self.matrix.loc[self.matrix['original_book_author'] == author]\n",
    "            for column in subframe:\n",
    "                if column not in columns_to_keep:\n",
    "                    subcolumn = subframe[column]\n",
    "                    number_of_zeros = (subcolumn == 0).sum()\n",
    "                    percent_data = (len(subcolumn) - number_of_zeros) / len(subcolumn)\n",
    "                    sparcity_data.at[column, author] = percent_data\n",
    "\n",
    "        sparcity_data = pd.DataFrame(data=sparcity_data.min(axis=1), columns=['min'])\n",
    "        sparcity_data = sparcity_data[sparcity_data['min'] <= threshold]\n",
    "        self.matrix = self.matrix.drop( sparcity_data.index, axis=1 )\n",
    "\n",
    "\n",
    "\n",
    "    def eliminate_non_significant_columns(self, threshold):\n",
    "        # print(\"starting csv read\")\n",
    "        # self.matrix = pd.read_csv(\"./matrix_builder_post_sparcity.csv\", header=0, index_col=0)\n",
    "\n",
    "        print('eliminate_non_significant_columns function')\n",
    "        # Columns we want to avoid\n",
    "        columns_to_keep = ['original_book_author', 'word_length_avg', 'word_length_std_dev', 'sentence_length_avg', 'sentence_length_std_dev', 'word_richness']\n",
    "        # Make two tables for the means and std's by authors\n",
    "        feature_list = list( set(self.matrix.columns.values).difference( set( columns_to_keep ) ) )\n",
    "        mean_feature_data = pd.DataFrame(columns=self.authors, index=feature_list)\n",
    "        std_feature_data = pd.DataFrame(columns=self.authors, index=feature_list)\n",
    "\n",
    "        feature_data = pd.DataFrame(columns=['mean_of_stds','std_of_means'], index=feature_list)\n",
    "\n",
    "        for author in self.authors:\n",
    "            print(\"\\t\", author)\n",
    "            subframe = self.matrix.loc[self.matrix['original_book_author'] == author]\n",
    "            for column in subframe:\n",
    "                if column not in columns_to_keep:\n",
    "                    mean_feature_data.at[column, author] = np.mean(subframe[column])\n",
    "                    std_feature_data.at[column, author] = np.std(subframe[column])\n",
    "\n",
    "        print(\"\\tsub tables built, constructing feature table\")\n",
    "        for column in feature_list:\n",
    "            feature_data.at[column,'mean_of_stds'] = np.mean(std_feature_data.loc[column])\n",
    "            feature_data.at[column,'std_of_means'] = np.mean(mean_feature_data.loc[column])\n",
    "\n",
    "        print(\"\\tdrops\")\n",
    "        drops = feature_data.sort_values(by=['mean_of_stds']).head( int(threshold * feature_data.shape[0]))\n",
    "        self.matrix = self.matrix.drop( drops.index, axis=1 )\n",
    "        drops = feature_data.sort_values(by=['std_of_means']).tail( int(threshold * feature_data.shape[1]))\n",
    "        self.matrix = self.matrix.drop( drops.index, axis=1 )\n",
    "\n",
    "if __name__ == '__main__':\n",
    "    matrix = Matrix(['mildred_a._wirt','oscar_wilde'])\n"
   ]
  },
  {
   "cell_type": "code",
   "execution_count": 15,
   "metadata": {},
   "outputs": [],
   "source": [
    "total_features = pd.read_csv(\"wirt_test_pre_sparcity.csv\", header=0, index_col=0)\n",
    "\n",
    "post_sparcity = pd.read_csv(\"wirt_test_pre_significance.csv\", header=0, index_col=0)\n",
    "\n",
    "post_significance = pd.read_csv(\"wirt_test_complete.csv\", header=0, index_col=0)"
   ]
  },
  {
   "cell_type": "code",
   "execution_count": 19,
   "metadata": {},
   "outputs": [],
   "source": [
    "wirt_complete_df = pd.DataFrame(columns = [\"total\", \"post_sparcity\", \"post_significance\"], index = ['wirt'] )"
   ]
  },
  {
   "cell_type": "code",
   "execution_count": 20,
   "metadata": {},
   "outputs": [],
   "source": [
    "wirt_complete_df.at['wirt', \"total\"] = len(list(total_features.columns.values))\n",
    "wirt_complete_df.at['wirt', 'post_sparcity'] = len(list(post_sparcity.columns.values))\n",
    "wirt_complete_df.at['wirt', 'post_significance'] = len(list(post_significance.columns.values))"
   ]
  },
  {
   "cell_type": "code",
   "execution_count": 28,
   "metadata": {},
   "outputs": [
    {
     "data": {
      "text/plain": [
       "<matplotlib.axes._subplots.AxesSubplot at 0x1a144b5668>"
      ]
     },
     "execution_count": 28,
     "metadata": {},
     "output_type": "execute_result"
    },
    {
     "data": {
      "image/png": "[encoded data removed]",
      "text/plain": [
       "<matplotlib.figure.Figure at 0x1a1392c0f0>"
      ]
     },
     "metadata": {},
     "output_type": "display_data"
    }
   ],
   "source": [
    "wirt_complete_df.plot.bar(figsize=(10,10), title='Decrease in Column size following reduction Functions')"
   ]
  },
  {
   "cell_type": "code",
   "execution_count": 58,
   "metadata": {},
   "outputs": [],
   "source": [
    "differnces_table = pd.DataFrame(index=list(range(2,11)), columns=[total\", \"processed\"])"
   ]
  },
  {
   "cell_type": "code",
   "execution_count": 33,
   "metadata": {},
   "outputs": [],
   "source": [
    "two_authors_total = pd.read_csv(\"./2author1grams_post_sparcity.csv\", header=0, index_col=0)\n",
    "two_authors_processed = pd.read_csv(\"./2author1grams.csv\", header=0, index_col=0)\n",
    "three_authors_total = pd.read_csv(\"./3author1grams_post_sparcity.csv\", header=0, index_col=0)\n",
    "three_authors_processed = pd.read_csv(\"./3author1grams.csv\", header=0, index_col=0)\n",
    "four_authors_total = pd.read_csv(\"./4author1grams_post_sparcity.csv\", header=0, index_col=0)\n",
    "four_authors_processed = pd.read_csv(\"./4author1grams.csv\", header=0, index_col=0)\n",
    "five_authors_total = pd.read_csv(\"./5author1grams_post_sparcity.csv\", header=0, index_col=0)\n",
    "five_authors_processed = pd.read_csv(\"./5author1grams.csv\", header=0, index_col=0)\n",
    "six_authors_total = pd.read_csv(\"./6author1grams_post_sparcity.csv\", header=0, index_col=0)\n",
    "six_authors_processed = pd.read_csv(\"./6author1grams.csv\", header=0, index_col=0)\n",
    "seven_authors_total = pd.read_csv(\"./7author1grams_post_sparcity.csv\", header=0, index_col=0)\n",
    "seven_authors_processed = pd.read_csv(\"./7author1grams.csv\", header=0, index_col=0)\n",
    "eight_authors_total = pd.read_csv(\"./8author1grams_post_sparcity.csv\", header=0, index_col=0)\n",
    "eight_authors_processed = pd.read_csv(\"./8author1grams.csv\", header=0, index_col=0)\n",
    "nine_authors_total = pd.read_csv(\"./9author1grams_post_sparcity.csv\", header=0, index_col=0)\n",
    "nine_authors_processed = pd.read_csv(\"./9author1grams.csv\", header=0, index_col=0)\n",
    "ten_authors_total = pd.read_csv(\"./10author1grams_post_sparcity.csv\", header=0, index_col=0)\n",
    "ten_authors_processed = pd.read_csv(\"./10author1grams.csv\", header=0, index_col=0)"
   ]
  },
  {
   "cell_type": "code",
   "execution_count": 57,
   "metadata": {},
   "outputs": [],
   "source": [
    "# differnces_table.at[2, \"differences\"] = len(list(two_authors_total.columns.values)) - len(list(two_authors_processed.columns.values))\n",
    "# differnces_table.at[3, \"differences\"] = len(list(three_authors_total.columns.values)) - len(list(three_authors_processed.columns.values))\n",
    "# differnces_table.at[4, \"differences\"] = len(list(four_authors_total.columns.values)) - len(list(four_authors_processed.columns.values))\n",
    "# differnces_table.at[5, \"differences\"] = len(list(five_authors_total.columns.values)) - len(list(five_authors_processed.columns.values))\n",
    "# differnces_table.at[6, \"differences\"] = len(list(six_authors_total.columns.values)) - len(list(six_authors_processed.columns.values))\n",
    "# differnces_table.at[7, \"differences\"] = len(list(seven_authors_total.columns.values)) - len(list(seven_authors_processed.columns.values))\n",
    "# differnces_table.at[8, \"differences\"] = len(list(eight_authors_total.columns.values)) - len(list(eight_authors_processed.columns.values))\n",
    "# differnces_table.at[9, \"differences\"] = len(list(nine_authors_total.columns.values)) - len(list(nine_authors_processed.columns.values))\n",
    "# differnces_table.at[10, \"differences\"] = len(list(ten_authors_total.columns.values)) - len(list(ten_authors_processed.columns.values))"
   ]
  },
  {
   "cell_type": "code",
   "execution_count": 59,
   "metadata": {},
   "outputs": [],
   "source": [
    "differnces_table.at[2, \"total\"] = len(list(two_authors_total.columns.values))\n",
    "differnces_table.at[3, \"total\"] = len(list(three_authors_total.columns.values))\n",
    "differnces_table.at[4, \"total\"] = len(list(four_authors_total.columns.values))\n",
    "differnces_table.at[5, \"total\"] = len(list(five_authors_total.columns.values))\n",
    "differnces_table.at[6, \"total\"] = len(list(six_authors_total.columns.values))\n",
    "differnces_table.at[7, \"total\"] = len(list(seven_authors_total.columns.values))\n",
    "differnces_table.at[8, \"total\"] = len(list(eight_authors_total.columns.values))\n",
    "differnces_table.at[9, \"total\"] = len(list(nine_authors_total.columns.values))\n",
    "differnces_table.at[10, \"total\"] = len(list(ten_authors_total.columns.values))"
   ]
  },
  {
   "cell_type": "code",
   "execution_count": 60,
   "metadata": {},
   "outputs": [],
   "source": [
    "differnces_table.at[2, \"processed\"] = len(list(two_authors_processed.columns.values))\n",
    "differnces_table.at[3, \"processed\"] = len(list(three_authors_processed.columns.values))\n",
    "differnces_table.at[4, \"processed\"] = len(list(four_authors_processed.columns.values))\n",
    "differnces_table.at[5, \"processed\"] = len(list(five_authors_processed.columns.values))\n",
    "differnces_table.at[6, \"processed\"] = len(list(six_authors_processed.columns.values))\n",
    "differnces_table.at[7, \"processed\"] = len(list(seven_authors_processed.columns.values))\n",
    "differnces_table.at[8, \"processed\"] = len(list(eight_authors_processed.columns.values))\n",
    "differnces_table.at[9, \"processed\"] = len(list(nine_authors_processed.columns.values))\n",
    "differnces_table.at[10, \"processed\"] = len(list(ten_authors_processed.columns.values))"
   ]
  },
  {
   "cell_type": "code",
   "execution_count": 62,
   "metadata": {},
   "outputs": [
    {
     "data": {
      "text/plain": [
       "<matplotlib.axes._subplots.AxesSubplot at 0x1a13511908>"
      ]
     },
     "execution_count": 62,
     "metadata": {},
     "output_type": "execute_result"
    },
    {
     "data": {
      "image/png": "[encoded data removed]",
      "text/plain": [
       "<matplotlib.figure.Figure at 0x1a182f7748>"
      ]
     },
     "metadata": {},
     "output_type": "display_data"
    }
   ],
   "source": [
    "differnces_table.plot.bar(figsize=(10,10), title='Differences in dimentionality as authors increases')"
   ]
  },
  {
   "cell_type": "code",
   "execution_count": 63,
   "metadata": {},
   "outputs": [],
   "source": [
    "three_author_differences = pd.DataFrame(index=[1,2,3], columns=[\"total\", \"processed\"])"
   ]
  },
  {
   "cell_type": "code",
   "execution_count": 64,
   "metadata": {},
   "outputs": [],
   "source": [
    "one_gram_total = pd.read_csv(\"./3author1grams_post_sparcity.csv\", header=0, index_col=0)\n",
    "one_gram_processed = pd.read_csv(\"./3author1grams.csv\", header=0, index_col=0)\n",
    "two_gram_total = pd.read_csv(\"./3author2grams_post_sparcity.csv\", header=0, index_col=0)\n",
    "two_gram_processed = pd.read_csv(\"./3author2grams.csv\", header=0, index_col=0)\n",
    "three_gram_total = pd.read_csv(\"./3author3grams_post_sparcity.csv\", header=0, index_col=0)\n",
    "three_gram_processed = pd.read_csv(\"./3author3grams.csv\", header=0, index_col=0)\n"
   ]
  },
  {
   "cell_type": "code",
   "execution_count": 67,
   "metadata": {},
   "outputs": [],
   "source": [
    "three_author_differences.at[1, \"total\"] = len(list(one_gram_total.columns.values))\n",
    "three_author_differences.at[2, \"total\"] = len(list(two_gram_total.columns.values))\n",
    "three_author_differences.at[3, \"total\"] = len(list(three_gram_total.columns.values))\n",
    "three_author_differences.at[1, \"processed\"] = len(list(one_gram_processed.columns.values))\n",
    "three_author_differences.at[2, \"processed\"] = len(list(two_gram_processed.columns.values))\n",
    "three_author_differences.at[3, \"processed\"] = len(list(three_gram_processed.columns.values))"
   ]
  },
  {
   "cell_type": "code",
   "execution_count": 70,
   "metadata": {},
   "outputs": [
    {
     "data": {
      "text/plain": [
       "<matplotlib.axes._subplots.AxesSubplot at 0x1a1478f4a8>"
      ]
     },
     "execution_count": 70,
     "metadata": {},
     "output_type": "execute_result"
    },
    {
     "data": {
      "image/png": "[encoded data removed]",
      "text/plain": [
       "<matplotlib.figure.Figure at 0x1a14386e80>"
      ]
     },
     "metadata": {},
     "output_type": "display_data"
    }
   ],
   "source": [
    "three_author_differences.plot.bar(figsize=(10,10), title='Differences in dimentionality as grams increases')"
   ]
  },
  {
   "cell_type": "code",
   "execution_count": null,
   "metadata": {},
   "outputs": [],
   "source": []
  }
 ],
 "metadata": {
  "kernelspec": {
   "display_name": "Python 3",
   "language": "python",
   "name": "python3"
  },
  "language_info": {
   "codemirror_mode": {
    "name": "ipython",
    "version": 3
   },
   "file_extension": ".py",
   "mimetype": "text/x-python",
   "name": "python",
   "nbconvert_exporter": "python",
   "pygments_lexer": "ipython3",
   "version": "3.6.4"
  }
 },
 "nbformat": 4,
 "nbformat_minor": 2
}
