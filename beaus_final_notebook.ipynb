{
 "cells": [
  {
   "cell_type": "code",
   "execution_count": 24,
   "metadata": {},
   "outputs": [],
   "source": [
    "import os\n",
    "import pandas as pd\n",
    "import matplotlib.pyplot as plt"
   ]
  },
  {
   "cell_type": "code",
   "execution_count": 7,
   "metadata": {},
   "outputs": [],
   "source": [
    "author_list = os.listdir(\"./data/texts_cleaned/\")"
   ]
  },
  {
   "cell_type": "code",
   "execution_count": 6,
   "metadata": {},
   "outputs": [
    {
     "data": {
      "text/plain": [
       "608"
      ]
     },
     "execution_count": 6,
     "metadata": {},
     "output_type": "execute_result"
    }
   ],
   "source": [
    "os.path.getsize(\"./data/texts_cleaned/\")"
   ]
  },
  {
   "cell_type": "code",
   "execution_count": 15,
   "metadata": {},
   "outputs": [
    {
     "data": {
      "text/html": [
       "<div>\n",
       "<style scoped>\n",
       "    .dataframe tbody tr th:only-of-type {\n",
       "        vertical-align: middle;\n",
       "    }\n",
       "\n",
       "    .dataframe tbody tr th {\n",
       "        vertical-align: top;\n",
       "    }\n",
       "\n",
       "    .dataframe thead th {\n",
       "        text-align: right;\n",
       "    }\n",
       "</style>\n",
       "<table border=\"1\" class=\"dataframe\">\n",
       "  <thead>\n",
       "    <tr style=\"text-align: right;\">\n",
       "      <th></th>\n",
       "      <th>Number of Books</th>\n",
       "      <th>Total Data</th>\n",
       "    </tr>\n",
       "  </thead>\n",
       "  <tbody>\n",
       "    <tr>\n",
       "      <th>edgar_rice_burroughs</th>\n",
       "      <td>24</td>\n",
       "      <td>8900397</td>\n",
       "    </tr>\n",
       "    <tr>\n",
       "      <th>robert_louis_stevenson</th>\n",
       "      <td>42</td>\n",
       "      <td>12937901</td>\n",
       "    </tr>\n",
       "    <tr>\n",
       "      <th>thomas_hardy</th>\n",
       "      <td>26</td>\n",
       "      <td>13175284</td>\n",
       "    </tr>\n",
       "    <tr>\n",
       "      <th>jack_london</th>\n",
       "      <td>50</td>\n",
       "      <td>16485779</td>\n",
       "    </tr>\n",
       "    <tr>\n",
       "      <th>oscar_wilde</th>\n",
       "      <td>23</td>\n",
       "      <td>3578554</td>\n",
       "    </tr>\n",
       "    <tr>\n",
       "      <th>lewis_carroll</th>\n",
       "      <td>10</td>\n",
       "      <td>1355847</td>\n",
       "    </tr>\n",
       "    <tr>\n",
       "      <th>george_macdonald</th>\n",
       "      <td>60</td>\n",
       "      <td>30322955</td>\n",
       "    </tr>\n",
       "    <tr>\n",
       "      <th>mildred_a._wirt</th>\n",
       "      <td>24</td>\n",
       "      <td>5330851</td>\n",
       "    </tr>\n",
       "    <tr>\n",
       "      <th>mark_twain</th>\n",
       "      <td>28</td>\n",
       "      <td>12272690</td>\n",
       "    </tr>\n",
       "    <tr>\n",
       "      <th>elizabeth_gaskell</th>\n",
       "      <td>21</td>\n",
       "      <td>9239624</td>\n",
       "    </tr>\n",
       "    <tr>\n",
       "      <th>charles_dickens</th>\n",
       "      <td>35</td>\n",
       "      <td>22952184</td>\n",
       "    </tr>\n",
       "    <tr>\n",
       "      <th>frances_hodgson_burnett</th>\n",
       "      <td>37</td>\n",
       "      <td>9843627</td>\n",
       "    </tr>\n",
       "    <tr>\n",
       "      <th>henry_james</th>\n",
       "      <td>67</td>\n",
       "      <td>21042350</td>\n",
       "    </tr>\n",
       "    <tr>\n",
       "      <th>george_eliot</th>\n",
       "      <td>15</td>\n",
       "      <td>10927028</td>\n",
       "    </tr>\n",
       "    <tr>\n",
       "      <th>arthur_conan_doyle</th>\n",
       "      <td>50</td>\n",
       "      <td>15149086</td>\n",
       "    </tr>\n",
       "    <tr>\n",
       "      <th>jane_austen</th>\n",
       "      <td>10</td>\n",
       "      <td>7601256</td>\n",
       "    </tr>\n",
       "    <tr>\n",
       "      <th>beatrix_potter</th>\n",
       "      <td>17</td>\n",
       "      <td>143852</td>\n",
       "    </tr>\n",
       "  </tbody>\n",
       "</table>\n",
       "</div>"
      ],
      "text/plain": [
       "                        Number of Books Total Data\n",
       "edgar_rice_burroughs                 24    8900397\n",
       "robert_louis_stevenson               42   12937901\n",
       "thomas_hardy                         26   13175284\n",
       "jack_london                          50   16485779\n",
       "oscar_wilde                          23    3578554\n",
       "lewis_carroll                        10    1355847\n",
       "george_macdonald                     60   30322955\n",
       "mildred_a._wirt                      24    5330851\n",
       "mark_twain                           28   12272690\n",
       "elizabeth_gaskell                    21    9239624\n",
       "charles_dickens                      35   22952184\n",
       "frances_hodgson_burnett              37    9843627\n",
       "henry_james                          67   21042350\n",
       "george_eliot                         15   10927028\n",
       "arthur_conan_doyle                   50   15149086\n",
       "jane_austen                          10    7601256\n",
       "beatrix_potter                       17     143852"
      ]
     },
     "execution_count": 15,
     "metadata": {},
     "output_type": "execute_result"
    }
   ],
   "source": [
    "path_to_authors = \"./data/texts_cleaned/\"\n",
    "author_list = os.listdir(path_to_authors)\n",
    "\n",
    "author_books_table = pd.DataFrame(index = author_list, columns = [\"Number of Books\", \"Total Data\"])\n",
    "\n",
    "\n",
    "for author in author_list:\n",
    "    size = 0\n",
    "    books = os.listdir(path_to_authors + author)\n",
    "    number_of_books = len(books)\n",
    "    for book in books:\n",
    "        size += os.path.getsize(path_to_authors + author + \"/\" + book)\n",
    "    author_books_table.at[author, \"Number of Books\"] = number_of_books\n",
    "    author_books_table.at[author, \"Total Data\"] = size\n",
    "\n",
    "author_books_table "
   ]
  },
  {
   "cell_type": "code",
   "execution_count": 22,
   "metadata": {},
   "outputs": [
    {
     "data": {
      "text/plain": [
       "<matplotlib.axes._subplots.AxesSubplot at 0x110a0eeb8>"
      ]
     },
     "execution_count": 22,
     "metadata": {},
     "output_type": "execute_result"
    },
    {
     "data": {
      "image/png": "[encoded data removed]",
      "text/plain": [
       "<matplotlib.figure.Figure at 0x110b0b630>"
      ]
     },
     "metadata": {},
     "output_type": "display_data"
    }
   ],
   "source": [
    "author_books_table[\"Number of Books\"].plot.bar()"
   ]
  },
  {
   "cell_type": "code",
   "execution_count": 23,
   "metadata": {},
   "outputs": [
    {
     "data": {
      "text/plain": [
       "<matplotlib.axes._subplots.AxesSubplot at 0x110c6b6a0>"
      ]
     },
     "execution_count": 23,
     "metadata": {},
     "output_type": "execute_result"
    },
    {
     "data": {
      "image/png": "[encoded data removed]",
      "text/plain": [
       "<matplotlib.figure.Figure at 0x110c5ca20>"
      ]
     },
     "metadata": {},
     "output_type": "display_data"
    }
   ],
   "source": [
    "author_books_table[\"Total Data\"].plot.bar()"
   ]
  },
  {
   "cell_type": "code",
   "execution_count": null,
   "metadata": {},
   "outputs": [],
   "source": []
  }
 ],
 "metadata": {
  "kernelspec": {
   "display_name": "Python 3",
   "language": "python",
   "name": "python3"
  },
  "language_info": {
   "codemirror_mode": {
    "name": "ipython",
    "version": 3
   },
   "file_extension": ".py",
   "mimetype": "text/x-python",
   "name": "python",
   "nbconvert_exporter": "python",
   "pygments_lexer": "ipython3",
   "version": "3.6.4"
  }
 },
 "nbformat": 4,
 "nbformat_minor": 2
}
