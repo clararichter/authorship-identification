{
 "cells": [
  {
   "cell_type": "markdown",
   "metadata": {},
   "source": [
    "Dating Documents (*) -- Given a short text (say, 500-2000 words), can you predict what year it was written?  We are particularly interested in books and articles written over the past 200 years.  How accurately can you date authorship?  My students and I have a manuscript/system that typically comes within 20 years of the right answer, but can you do better?   Google n-grams and book corpora like Guttenberg provide the data to do this."
   ]
  }
 ],
 "metadata": {
  "kernelspec": {
   "display_name": "Python 3",
   "language": "python",
   "name": "python3"
  },
  "language_info": {
   "codemirror_mode": {
    "name": "ipython",
    "version": 3
   },
   "file_extension": ".py",
   "mimetype": "text/x-python",
   "name": "python",
   "nbconvert_exporter": "python",
   "pygments_lexer": "ipython3",
   "version": "3.6.4"
  }
 },
 "nbformat": 4,
 "nbformat_minor": 2
}
